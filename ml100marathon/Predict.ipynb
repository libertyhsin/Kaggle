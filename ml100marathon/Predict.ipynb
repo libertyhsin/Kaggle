{
 "cells": [
  {
   "cell_type": "code",
   "execution_count": 85,
   "metadata": {},
   "outputs": [],
   "source": [
    "import os\n",
    "import numpy as np\n",
    "import pandas as pd\n",
    "from datetime import date\n",
    "\n",
    "from sklearn.model_selection import KFold, train_test_split, StratifiedKFold, cross_val_score, GridSearchCV\n",
    "from sklearn.pipeline import Pipeline\n",
    "from sklearn.linear_model import SGDClassifier, LogisticRegression\n",
    "from sklearn.preprocessing import StandardScaler\n",
    "from sklearn.metrics import log_loss, roc_auc_score, auc, roc_curve\n",
    "from sklearn.preprocessing import MinMaxScaler\n",
    "\n",
    "DATA_ROOT = \"data/\""
   ]
  },
  {
   "cell_type": "code",
   "execution_count": 86,
   "metadata": {},
   "outputs": [
    {
     "name": "stdout",
     "output_type": "stream",
     "text": [
      "(746969, 7)\n",
      "(306313, 6)\n"
     ]
    }
   ],
   "source": [
    "dfoff = pd.read_csv(os.path.join(DATA_ROOT,'train_offline.csv'))\n",
    "dftest = pd.read_csv(os.path.join(DATA_ROOT,'test_offline.csv'))\n",
    "dfoff = dfoff[~dfoff.Coupon_id.isna()]\n",
    "dftest = dftest[~dftest.Coupon_id.isna()]\n",
    "dfoff.reset_index(drop=True, inplace=True)\n",
    "dftest.reset_index(drop=True, inplace=True)\n",
    "print(dfoff.shape)\n",
    "print(dftest.shape)"
   ]
  },
  {
   "cell_type": "code",
   "execution_count": 87,
   "metadata": {},
   "outputs": [
    {
     "name": "stdout",
     "output_type": "stream",
     "text": [
      "   User_id  Merchant_id  Coupon_id Discount_rate  Distance  Date_received  \\\n",
      "0  1439408         2632     8591.0          20:1       0.0     20160217.0   \n",
      "1  1439408         2632     1078.0          20:1       0.0     20160319.0   \n",
      "2  1832624         3381     7610.0        200:20       0.0     20160429.0   \n",
      "3  2029232         3381    11951.0        200:20       1.0     20160129.0   \n",
      "4  2223968         3381     9776.0          10:5       2.0     20160129.0   \n",
      "5    73611         2099    12034.0        100:10       NaN     20160207.0   \n",
      "6   163606         1569     5054.0        200:30      10.0     20160421.0   \n",
      "7  3273056         4833     7802.0        200:20      10.0     20160130.0   \n",
      "8    94107         3381     7610.0        200:20       2.0     20160412.0   \n",
      "9   253750         8390     7531.0          20:5       0.0     20160327.0   \n",
      "\n",
      "   Date  \n",
      "0   NaN  \n",
      "1   NaN  \n",
      "2   NaN  \n",
      "3   NaN  \n",
      "4   NaN  \n",
      "5   NaN  \n",
      "6   NaN  \n",
      "7   NaN  \n",
      "8   NaN  \n",
      "9   NaN  \n",
      "   User_id  Merchant_id  Coupon_id Discount_rate  Distance  Date_received\n",
      "0  1439408         4663    11002.0        150:20       1.0     20160528.0\n",
      "1  1439408         2632     8591.0          20:1       0.0     20160613.0\n",
      "2  1439408         2632     8591.0          20:1       0.0     20160516.0\n",
      "3  2029232          450     1532.0          30:5       0.0     20160530.0\n",
      "4  2029232         6459    12737.0          20:1       0.0     20160519.0\n",
      "5  2747744         6901     1097.0         50:10       NaN     20160606.0\n",
      "6   196342         1579    10698.0          20:1       1.0     20160606.0\n",
      "7   253750         6901     2366.0          30:5       0.0     20160518.0\n",
      "8   343660         4663    11002.0        150:20       NaN     20160528.0\n",
      "9  1113008         3621     2705.0          20:5       0.0     20160524.0\n"
     ]
    }
   ],
   "source": [
    "print(dfoff.head(10))\n",
    "print(dftest.head(10))"
   ]
  },
  {
   "cell_type": "code",
   "execution_count": 88,
   "metadata": {},
   "outputs": [
    {
     "name": "stdout",
     "output_type": "stream",
     "text": [
      "0    710665\n",
      "1     36304\n",
      "Name: label, dtype: int64\n",
      "    User_id  Merchant_id  Coupon_id Discount_rate  Distance  Date_received  \\\n",
      "0   1439408         2632     8591.0          20:1       0.0     20160217.0   \n",
      "1   1439408         2632     1078.0          20:1       0.0     20160319.0   \n",
      "2   1832624         3381     7610.0        200:20       0.0     20160429.0   \n",
      "3   2029232         3381    11951.0        200:20       1.0     20160129.0   \n",
      "4   2223968         3381     9776.0          10:5       2.0     20160129.0   \n",
      "5     73611         2099    12034.0        100:10       NaN     20160207.0   \n",
      "6    163606         1569     5054.0        200:30      10.0     20160421.0   \n",
      "7   3273056         4833     7802.0        200:20      10.0     20160130.0   \n",
      "8     94107         3381     7610.0        200:20       2.0     20160412.0   \n",
      "9    253750         8390     7531.0          20:5       0.0     20160327.0   \n",
      "10   376492         1041    13490.0          30:5       2.0     20160127.0   \n",
      "11  1964720         7884     6704.0          20:1      10.0     20160215.0   \n",
      "12  1113008         1041    11197.0          30:5       2.0     20160114.0   \n",
      "13  2881376         5341      111.0          30:5       1.0     20160207.0   \n",
      "14  2881376         8390     7531.0          20:5       0.0     20160321.0   \n",
      "15  2881376         5341      111.0          30:5       1.0     20160207.0   \n",
      "16  4061024         2709     2840.0        100:10      10.0     20160129.0   \n",
      "17  4061024         3381     7610.0        200:20      10.0     20160426.0   \n",
      "18  4061024         7555     9871.0          30:5      10.0     20160409.0   \n",
      "19  4061024         3381     9776.0          10:5      10.0     20160129.0   \n",
      "\n",
      "          Date  label  \n",
      "0          NaN      0  \n",
      "1          NaN      0  \n",
      "2          NaN      0  \n",
      "3          NaN      0  \n",
      "4          NaN      0  \n",
      "5          NaN      0  \n",
      "6          NaN      0  \n",
      "7          NaN      0  \n",
      "8          NaN      0  \n",
      "9          NaN      0  \n",
      "10         NaN      0  \n",
      "11         NaN      0  \n",
      "12         NaN      0  \n",
      "13         NaN      0  \n",
      "14  20160329.0      1  \n",
      "15         NaN      0  \n",
      "16         NaN      0  \n",
      "17         NaN      0  \n",
      "18         NaN      0  \n",
      "19         NaN      0  \n"
     ]
    }
   ],
   "source": [
    "def label_check(x):\n",
    "    if np.isnan(x['Date_received']):\n",
    "        return -1\n",
    "    if not np.isnan(x[\"Date\"]):\n",
    "        td = pd.to_datetime(x['Date'], format='%Y%m%d') - pd.to_datetime(x['Date_received'], format='%Y%m%d')\n",
    "        if td <= pd.Timedelta(15, 'D'):\n",
    "            return 1\n",
    "    return 0\n",
    "dfoff[\"label\"] = dfoff.apply(label_check, axis=1)\n",
    "print(dfoff[\"label\"].value_counts())\n",
    "print(dfoff.head(20))"
   ]
  },
  {
   "cell_type": "code",
   "execution_count": 89,
   "metadata": {},
   "outputs": [],
   "source": [
    "def getWeekday(x):\n",
    "    if (np.isnan(x)) or (x==-1):\n",
    "        return x\n",
    "    else:\n",
    "        return pd.to_datetime(x, format = \"%Y%m%d\").dayofweek + 1\n",
    "\n",
    "dfoff['weekday'] = dfoff['Date_received'].apply(getWeekday)\n",
    "dftest['weekday'] = dftest['Date_received'].apply(getWeekday)\n",
    "\n",
    "dfoff[\"weekend\"] = dfoff[\"weekday\"].apply(lambda x:1 if x in [6,7] else 0)\n",
    "dftest[\"weekend\"] = dfoff[\"weekday\"].apply(lambda x:1 if x in [6,7] else 0)"
   ]
  },
  {
   "cell_type": "code",
   "execution_count": 90,
   "metadata": {},
   "outputs": [
    {
     "name": "stdout",
     "output_type": "stream",
     "text": [
      "['weekday_1', 'weekday_2', 'weekday_3', 'weekday_4', 'weekday_5', 'weekday_6', 'weekday_7']\n"
     ]
    }
   ],
   "source": [
    "weekdaycols = ['weekday_' + str(i) for i in range(1,8)]\n",
    "print(weekdaycols)\n",
    "\n",
    "tmpdf = pd.get_dummies(dfoff['weekday'].replace(-1, np.nan))\n",
    "tmpdf.columns = weekdaycols\n",
    "dfoff[weekdaycols] = tmpdf\n",
    "\n",
    "tmpdf = pd.get_dummies(dftest['weekday'].replace(-1, np.nan))\n",
    "tmpdf.columns = weekdaycols\n",
    "dftest[weekdaycols] = tmpdf"
   ]
  },
  {
   "cell_type": "code",
   "execution_count": 91,
   "metadata": {},
   "outputs": [
    {
     "name": "stdout",
     "output_type": "stream",
     "text": [
      "    User_id  Merchant_id  Coupon_id Discount_rate  Distance  Date_received  \\\n",
      "0   1439408         2632     8591.0          20:1       0.0     20160217.0   \n",
      "1   1439408         2632     1078.0          20:1       0.0     20160319.0   \n",
      "2   1832624         3381     7610.0        200:20       0.0     20160429.0   \n",
      "3   2029232         3381    11951.0        200:20       1.0     20160129.0   \n",
      "4   2223968         3381     9776.0          10:5       2.0     20160129.0   \n",
      "5     73611         2099    12034.0        100:10      99.0     20160207.0   \n",
      "6    163606         1569     5054.0        200:30      10.0     20160421.0   \n",
      "7   3273056         4833     7802.0        200:20      10.0     20160130.0   \n",
      "8     94107         3381     7610.0        200:20       2.0     20160412.0   \n",
      "9    253750         8390     7531.0          20:5       0.0     20160327.0   \n",
      "10   376492         1041    13490.0          30:5       2.0     20160127.0   \n",
      "11  1964720         7884     6704.0          20:1      10.0     20160215.0   \n",
      "12  1113008         1041    11197.0          30:5       2.0     20160114.0   \n",
      "13  2881376         5341      111.0          30:5       1.0     20160207.0   \n",
      "14  2881376         8390     7531.0          20:5       0.0     20160321.0   \n",
      "15  2881376         5341      111.0          30:5       1.0     20160207.0   \n",
      "16  4061024         2709     2840.0        100:10      10.0     20160129.0   \n",
      "17  4061024         3381     7610.0        200:20      10.0     20160426.0   \n",
      "18  4061024         7555     9871.0          30:5      10.0     20160409.0   \n",
      "19  4061024         3381     9776.0          10:5      10.0     20160129.0   \n",
      "\n",
      "          Date  label  weekday  weekend  ...  weekday_3  weekday_4  weekday_5  \\\n",
      "0          NaN      0        3        0  ...          1          0          0   \n",
      "1          NaN      0        6        1  ...          0          0          0   \n",
      "2          NaN      0        5        0  ...          0          0          1   \n",
      "3          NaN      0        5        0  ...          0          0          1   \n",
      "4          NaN      0        5        0  ...          0          0          1   \n",
      "5          NaN      0        7        1  ...          0          0          0   \n",
      "6          NaN      0        4        0  ...          0          1          0   \n",
      "7          NaN      0        6        1  ...          0          0          0   \n",
      "8          NaN      0        2        0  ...          0          0          0   \n",
      "9          NaN      0        7        1  ...          0          0          0   \n",
      "10         NaN      0        3        0  ...          1          0          0   \n",
      "11         NaN      0        1        0  ...          0          0          0   \n",
      "12         NaN      0        4        0  ...          0          1          0   \n",
      "13         NaN      0        7        1  ...          0          0          0   \n",
      "14  20160329.0      1        1        0  ...          0          0          0   \n",
      "15         NaN      0        7        1  ...          0          0          0   \n",
      "16         NaN      0        5        0  ...          0          0          1   \n",
      "17         NaN      0        2        0  ...          0          0          0   \n",
      "18         NaN      0        6        1  ...          0          0          0   \n",
      "19         NaN      0        5        0  ...          0          0          1   \n",
      "\n",
      "    weekday_6  weekday_7  discount_rate  discount_man  discount_jian  \\\n",
      "0           0          0       0.950000            20              1   \n",
      "1           1          0       0.950000            20              1   \n",
      "2           0          0       0.900000           200             20   \n",
      "3           0          0       0.900000           200             20   \n",
      "4           0          0       0.500000            10              5   \n",
      "5           0          1       0.900000           100             10   \n",
      "6           0          0       0.850000           200             30   \n",
      "7           1          0       0.900000           200             20   \n",
      "8           0          0       0.900000           200             20   \n",
      "9           0          1       0.750000            20              5   \n",
      "10          0          0       0.833333            30              5   \n",
      "11          0          0       0.950000            20              1   \n",
      "12          0          0       0.833333            30              5   \n",
      "13          0          1       0.833333            30              5   \n",
      "14          0          0       0.750000            20              5   \n",
      "15          0          1       0.833333            30              5   \n",
      "16          0          0       0.900000           100             10   \n",
      "17          0          0       0.900000           200             20   \n",
      "18          1          0       0.833333            30              5   \n",
      "19          0          0       0.500000            10              5   \n",
      "\n",
      "    discount_save  discount_type  \n",
      "0             1.0              1  \n",
      "1             1.0              1  \n",
      "2            20.0              1  \n",
      "3            20.0              1  \n",
      "4             5.0              1  \n",
      "5            10.0              1  \n",
      "6            30.0              1  \n",
      "7            20.0              1  \n",
      "8            20.0              1  \n",
      "9             5.0              1  \n",
      "10            5.0              1  \n",
      "11            1.0              1  \n",
      "12            5.0              1  \n",
      "13            5.0              1  \n",
      "14            5.0              1  \n",
      "15            5.0              1  \n",
      "16           10.0              1  \n",
      "17           20.0              1  \n",
      "18            5.0              1  \n",
      "19            5.0              1  \n",
      "\n",
      "[20 rows x 22 columns]\n"
     ]
    }
   ],
   "source": [
    "#print(dfoff[\"Discount_rate\"].head(10))\n",
    "#print(dfoff[\"Discount_rate\"].value_counts)\n",
    "def getDiscountType(x):\n",
    "    if x == 'null':\n",
    "        return 'null'\n",
    "    elif ':' in x:\n",
    "        return 1\n",
    "    else:\n",
    "        return 0\n",
    "\n",
    "def Convert_to_rate(x):\n",
    "    if x == \"null\":\n",
    "        return 1\n",
    "    elif \":\" in x:\n",
    "        temp = x.split(\":\")\n",
    "        return 1- float(temp[1])/float(temp[0])\n",
    "    else:\n",
    "        return float(x)\n",
    "    \n",
    "def getDiscountMan(row):\n",
    "    if ':' in row:\n",
    "        rows = row.split(':')\n",
    "        return int(rows[0])\n",
    "    else:\n",
    "        return 0\n",
    "\n",
    "def getDiscountJian(row):\n",
    "    if ':' in row:\n",
    "        rows = row.split(':')\n",
    "        return int(rows[1])\n",
    "    else:\n",
    "        return 0\n",
    "\n",
    "#每300最高省下金額\n",
    "def getSavemoney(x):\n",
    "    if \":\" in x:\n",
    "        return int(x.split(\":\")[1])\n",
    "    elif x == \"null\":\n",
    "        return 0\n",
    "    else:\n",
    "        return float(x) * 300\n",
    "\n",
    "def processData(df):\n",
    "    df['discount_rate'] = df['Discount_rate'].apply(Convert_to_rate)\n",
    "    df['discount_man'] = df['Discount_rate'].apply(getDiscountMan)\n",
    "    df['discount_jian'] = df['Discount_rate'].apply(getDiscountJian)\n",
    "    df['discount_save'] = df['Discount_rate'].apply(getSavemoney)\n",
    "    df['discount_type'] = df['Discount_rate'].apply(getDiscountType)\n",
    "    df.loc[df.Distance.isna(), \"Distance\"] = 99\n",
    "    return(df)\n",
    "\n",
    "dfoff = processData(dfoff)\n",
    "dftest = processData(dftest)\n",
    "print(dfoff.head(20))"
   ]
  },
  {
   "cell_type": "code",
   "execution_count": 92,
   "metadata": {},
   "outputs": [
    {
     "name": "stdout",
     "output_type": "stream",
     "text": [
      "   User_id  Merchant_id  Coupon_id Discount_rate  Distance  Date_received  \\\n",
      "0  1439408         2632     8591.0          20:1       0.0     20160217.0   \n",
      "1  1439408         2632     1078.0          20:1       0.0     20160319.0   \n",
      "2  1832624         3381     7610.0        200:20       0.0     20160429.0   \n",
      "3  2029232         3381    11951.0        200:20       1.0     20160129.0   \n",
      "4  2223968         3381     9776.0          10:5       2.0     20160129.0   \n",
      "5    73611         2099    12034.0        100:10      99.0     20160207.0   \n",
      "6   163606         1569     5054.0        200:30      10.0     20160421.0   \n",
      "7  3273056         4833     7802.0        200:20      10.0     20160130.0   \n",
      "8    94107         3381     7610.0        200:20       2.0     20160412.0   \n",
      "9   253750         8390     7531.0          20:5       0.0     20160327.0   \n",
      "\n",
      "   Date  label  weekday  weekend  ...  weekday_4  weekday_5  weekday_6  \\\n",
      "0   NaN      0        3        0  ...          0          0          0   \n",
      "1   NaN      0        6        1  ...          0          0          1   \n",
      "2   NaN      0        5        0  ...          0          1          0   \n",
      "3   NaN      0        5        0  ...          0          1          0   \n",
      "4   NaN      0        5        0  ...          0          1          0   \n",
      "5   NaN      0        7        1  ...          0          0          0   \n",
      "6   NaN      0        4        0  ...          1          0          0   \n",
      "7   NaN      0        6        1  ...          0          0          1   \n",
      "8   NaN      0        2        0  ...          0          0          0   \n",
      "9   NaN      0        7        1  ...          0          0          0   \n",
      "\n",
      "   weekday_7  discount_rate  discount_man  discount_jian  discount_save  \\\n",
      "0          0           0.95            20              1            1.0   \n",
      "1          0           0.95            20              1            1.0   \n",
      "2          0           0.90           200             20           20.0   \n",
      "3          0           0.90           200             20           20.0   \n",
      "4          0           0.50            10              5            5.0   \n",
      "5          1           0.90           100             10           10.0   \n",
      "6          0           0.85           200             30           30.0   \n",
      "7          0           0.90           200             20           20.0   \n",
      "8          0           0.90           200             20           20.0   \n",
      "9          1           0.75            20              5            5.0   \n",
      "\n",
      "   discount_type  Merchant_rate  \n",
      "0              1       0.031250  \n",
      "1              1       0.031250  \n",
      "2              1       0.012608  \n",
      "3              1       0.012608  \n",
      "4              1       0.012608  \n",
      "5              1       0.079232  \n",
      "6              1       0.002722  \n",
      "7              1       0.011417  \n",
      "8              1       0.012608  \n",
      "9              1       0.192754  \n",
      "\n",
      "[10 rows x 23 columns]\n"
     ]
    }
   ],
   "source": [
    "mean_mer = dfoff.groupby([\"Merchant_id\"])[\"label\"].mean().reset_index()\n",
    "mean_mer.columns = [\"Merchant_id\", \"Merchant_rate\"]\n",
    "dfoff = pd.merge(dfoff, mean_mer, on=\"Merchant_id\", how=\"left\")\n",
    "dftest = pd.merge(dftest, mean_mer, on=\"Merchant_id\", how=\"left\")\n",
    "print(dfoff.head(10))"
   ]
  },
  {
   "cell_type": "code",
   "execution_count": 93,
   "metadata": {},
   "outputs": [
    {
     "name": "stdout",
     "output_type": "stream",
     "text": [
      "   User_id  Merchant_id  Coupon_id Discount_rate  Distance  Date_received  \\\n",
      "0  1439408         4663    11002.0        150:20       1.0     20160528.0   \n",
      "1  1439408         2632     8591.0          20:1       0.0     20160613.0   \n",
      "2  1439408         2632     8591.0          20:1       0.0     20160516.0   \n",
      "3  2029232          450     1532.0          30:5       0.0     20160530.0   \n",
      "4  2029232         6459    12737.0          20:1       0.0     20160519.0   \n",
      "\n",
      "   weekday  weekend  weekday_1  weekday_2  ...  weekday_4  weekday_5  \\\n",
      "0        6        0          0          0  ...          0          0   \n",
      "1        1        1          1          0  ...          0          0   \n",
      "2        1        0          1          0  ...          0          0   \n",
      "3        1        0          1          0  ...          0          0   \n",
      "4        4        0          0          0  ...          1          0   \n",
      "\n",
      "   weekday_6  weekday_7  discount_rate  discount_man  discount_jian  \\\n",
      "0          1          0       0.866667           150             20   \n",
      "1          0          0       0.950000            20              1   \n",
      "2          0          0       0.950000            20              1   \n",
      "3          0          0       0.833333            30              5   \n",
      "4          0          0       0.950000            20              1   \n",
      "\n",
      "   discount_save  discount_type  Merchant_rate  \n",
      "0           20.0              1       0.009023  \n",
      "1            1.0              1       0.031250  \n",
      "2            1.0              1       0.031250  \n",
      "3            5.0              1       0.010384  \n",
      "4            1.0              1       0.060302  \n",
      "\n",
      "[5 rows x 21 columns]\n"
     ]
    }
   ],
   "source": [
    "import math\n",
    "def Merchant_rate_replace0(df):\n",
    "    temp = df[\"Merchant_rate\"].median()\n",
    "    #df.loc[np.isnan(df[\"Merchant_rate\"]), \"Merchant_rate\"] = temp\n",
    "    df[\"Merchant_rate\"] = df[\"Merchant_rate\"].apply(lambda x:temp if math.isnan(x) else x)\n",
    "    return df\n",
    "dftest = Merchant_rate_replace0(dftest)\n",
    "print(dftest.head(5))"
   ]
  },
  {
   "cell_type": "code",
   "execution_count": 94,
   "metadata": {},
   "outputs": [
    {
     "name": "stdout",
     "output_type": "stream",
     "text": [
      "   User_id  Merchant_id  Coupon_id Discount_rate  Distance  Date_received  \\\n",
      "0  1439408         2632     8591.0          20:1       0.0     20160217.0   \n",
      "1  1439408         2632     1078.0          20:1       0.0     20160319.0   \n",
      "2  1832624         3381     7610.0        200:20       0.0     20160429.0   \n",
      "3  2029232         3381    11951.0        200:20       1.0     20160129.0   \n",
      "4  2223968         3381     9776.0          10:5       2.0     20160129.0   \n",
      "5    73611         2099    12034.0        100:10      99.0     20160207.0   \n",
      "6   163606         1569     5054.0        200:30      10.0     20160421.0   \n",
      "7  3273056         4833     7802.0        200:20      10.0     20160130.0   \n",
      "8    94107         3381     7610.0        200:20       2.0     20160412.0   \n",
      "9   253750         8390     7531.0          20:5       0.0     20160327.0   \n",
      "\n",
      "   Date  label  weekday  weekend  ...  weekday_5  weekday_6  weekday_7  \\\n",
      "0   NaN      0        3        0  ...          0          0          0   \n",
      "1   NaN      0        6        1  ...          0          1          0   \n",
      "2   NaN      0        5        0  ...          1          0          0   \n",
      "3   NaN      0        5        0  ...          1          0          0   \n",
      "4   NaN      0        5        0  ...          1          0          0   \n",
      "5   NaN      0        7        1  ...          0          0          1   \n",
      "6   NaN      0        4        0  ...          0          0          0   \n",
      "7   NaN      0        6        1  ...          0          1          0   \n",
      "8   NaN      0        2        0  ...          0          0          0   \n",
      "9   NaN      0        7        1  ...          0          0          1   \n",
      "\n",
      "   discount_rate  discount_man  discount_jian  discount_save  discount_type  \\\n",
      "0           0.95            20              1            1.0              1   \n",
      "1           0.95            20              1            1.0              1   \n",
      "2           0.90           200             20           20.0              1   \n",
      "3           0.90           200             20           20.0              1   \n",
      "4           0.50            10              5            5.0              1   \n",
      "5           0.90           100             10           10.0              1   \n",
      "6           0.85           200             30           30.0              1   \n",
      "7           0.90           200             20           20.0              1   \n",
      "8           0.90           200             20           20.0              1   \n",
      "9           0.75            20              5            5.0              1   \n",
      "\n",
      "   Merchant_rate  Coupon_rate  \n",
      "0       0.031250     0.041667  \n",
      "1       0.031250     0.000000  \n",
      "2       0.012608     0.005485  \n",
      "3       0.012608     0.010563  \n",
      "4       0.012608     0.059062  \n",
      "5       0.079232     0.079232  \n",
      "6       0.002722     0.000515  \n",
      "7       0.011417     0.014011  \n",
      "8       0.012608     0.005485  \n",
      "9       0.192754     0.192754  \n",
      "\n",
      "[10 rows x 24 columns]\n"
     ]
    }
   ],
   "source": [
    "mean_Cou = dfoff.groupby([\"Coupon_id\"])[\"label\"].mean().reset_index()\n",
    "mean_Cou.columns = [\"Coupon_id\", \"Coupon_rate\"]\n",
    "dfoff = pd.merge(dfoff, mean_Cou, on=\"Coupon_id\", how=\"left\")\n",
    "dftest = pd.merge(dftest, mean_Cou, on=\"Coupon_id\", how=\"left\")\n",
    "print(dfoff.head(10))"
   ]
  },
  {
   "cell_type": "code",
   "execution_count": 95,
   "metadata": {},
   "outputs": [
    {
     "name": "stdout",
     "output_type": "stream",
     "text": [
      "   User_id  Merchant_id  Coupon_id Discount_rate  Distance  Date_received  \\\n",
      "0  1439408         4663    11002.0        150:20       1.0     20160528.0   \n",
      "1  1439408         2632     8591.0          20:1       0.0     20160613.0   \n",
      "2  1439408         2632     8591.0          20:1       0.0     20160516.0   \n",
      "3  2029232          450     1532.0          30:5       0.0     20160530.0   \n",
      "4  2029232         6459    12737.0          20:1       0.0     20160519.0   \n",
      "\n",
      "   weekday  weekend  weekday_1  weekday_2  ...  weekday_5  weekday_6  \\\n",
      "0        6        0          0          0  ...          0          1   \n",
      "1        1        1          1          0  ...          0          0   \n",
      "2        1        0          1          0  ...          0          0   \n",
      "3        1        0          1          0  ...          0          0   \n",
      "4        4        0          0          0  ...          0          0   \n",
      "\n",
      "   weekday_7  discount_rate  discount_man  discount_jian  discount_save  \\\n",
      "0          0       0.866667           150             20           20.0   \n",
      "1          0       0.950000            20              1            1.0   \n",
      "2          0       0.950000            20              1            1.0   \n",
      "3          0       0.833333            30              5            5.0   \n",
      "4          0       0.950000            20              1            1.0   \n",
      "\n",
      "   discount_type  Merchant_rate  Coupon_rate  \n",
      "0              1       0.009023     0.111111  \n",
      "1              1       0.031250     0.041667  \n",
      "2              1       0.031250     0.041667  \n",
      "3              1       0.010384     1.000000  \n",
      "4              1       0.060302     0.111111  \n",
      "\n",
      "[5 rows x 22 columns]\n"
     ]
    }
   ],
   "source": [
    "import math\n",
    "def Coupon_rate_replace0(df):\n",
    "    temp = df[\"Coupon_rate\"].median()\n",
    "    #df.loc[np.isnan(df[\"Merchant_rate\"]), \"Merchant_rate\"] = temp\n",
    "    df[\"Coupon_rate\"] = df[\"Coupon_rate\"].apply(lambda x:temp if math.isnan(x) else x)\n",
    "    return df\n",
    "dftest = Coupon_rate_replace0(dftest)\n",
    "print(dftest.head(5))"
   ]
  },
  {
   "cell_type": "code",
   "execution_count": 96,
   "metadata": {},
   "outputs": [
    {
     "name": "stdout",
     "output_type": "stream",
     "text": [
      "(746969, 24) (746969, 24)\n"
     ]
    }
   ],
   "source": [
    "df = dfoff[dfoff['label'] != -1].copy()\n",
    "print(df.shape, dfoff.shape)"
   ]
  },
  {
   "cell_type": "code",
   "execution_count": 108,
   "metadata": {},
   "outputs": [],
   "source": [
    "def split_train_valid(x, cut=\"20160423\"):\n",
    "    if pd.to_datetime(x, format=\"%Y%m%d\") < pd.to_datetime(cut, format=\"%Y%m%d\"):\n",
    "        return True\n",
    "    else:\n",
    "        return False\n",
    "df[\"IsTrain\"] = dfoff[\"Date_received\"].apply(split_train_valid)\n",
    "df_train = df[df[\"IsTrain\"]]\n",
    "df_valid = df[~df[\"IsTrain\"]]\n",
    "df_train.reset_index(drop=True, inplace=True)\n",
    "df_valid.reset_index(drop=True, inplace=True)"
   ]
  },
  {
   "cell_type": "code",
   "execution_count": 180,
   "metadata": {},
   "outputs": [
    {
     "name": "stdout",
     "output_type": "stream",
     "text": [
      "Train size: 703894, #positive: 33963\n",
      "Valid size: 43075, #positive: 2341\n",
      "8 ['Distance', 'weekend', 'discount_rate', 'discount_man', 'discount_save', 'discount_jian', 'Merchant_rate', 'weekday_7']\n"
     ]
    }
   ],
   "source": [
    "print(\"Train size: {}, #positive: {}\".format(len(df_train), df_train[\"label\"].sum()))\n",
    "print(\"Valid size: {}, #positive: {}\".format(len(df_valid), df_valid[\"label\"].sum()))\n",
    "feature = df.columns\n",
    "#print(feature)\n",
    "Choose_feature = ['Distance',\n",
    "                  'weekend', \n",
    "                  'discount_rate',\n",
    "                  'discount_man', \n",
    "                  'discount_save',\n",
    "                  'discount_type',\n",
    "                  'discount_jian',\n",
    "                  \"Merchant_rate\",\n",
    "                  \"weekday_7\"]\n",
    "print(len(Choose_feature), Choose_feature)"
   ]
  },
  {
   "cell_type": "code",
   "execution_count": 181,
   "metadata": {},
   "outputs": [
    {
     "name": "stderr",
     "output_type": "stream",
     "text": [
      "C:\\Users\\Hsin-PC\\Anaconda3\\lib\\site-packages\\sklearn\\preprocessing\\_encoders.py:371: FutureWarning: The handling of integer data will change in version 0.22. Currently, the categories are determined based on the range [0, max(values)], while in the future they will be determined based on the unique values.\n",
      "If you want the future behaviour and silence this warning, you can specify \"categories='auto'\".\n",
      "In case you used a LabelEncoder before this OneHotEncoder to convert the categories to integers, then you can now use the OneHotEncoder directly.\n",
      "  warnings.warn(msg, FutureWarning)\n"
     ]
    },
    {
     "data": {
      "text/plain": [
       "LogisticRegression(C=1.0, class_weight=None, dual=False, fit_intercept=True,\n",
       "          intercept_scaling=1, max_iter=1000, multi_class='warn',\n",
       "          n_jobs=None, penalty='l2', random_state=None, solver='lbfgs',\n",
       "          tol=0.0001, verbose=0, warm_start=False)"
      ]
     },
     "execution_count": 181,
     "metadata": {},
     "output_type": "execute_result"
    }
   ],
   "source": [
    "from sklearn.linear_model import LogisticRegression\n",
    "from sklearn.ensemble import RandomForestClassifier\n",
    "from sklearn.preprocessing import OneHotEncoder\n",
    "from sklearn.metrics import roc_curve\n",
    "predictors = Choose_feature\n",
    "rf = RandomForestClassifier(n_estimators=20, min_samples_split=10, min_samples_leaf=5, \n",
    "                            max_features=4, max_depth=3, bootstrap=True)\n",
    "onehot = OneHotEncoder()\n",
    "lr = LogisticRegression(solver='lbfgs', max_iter=1000)\n",
    "train_X = df_train[predictors]\n",
    "train_Y = df_train[\"label\"]\n",
    "val_X = df_valid[predictors]\n",
    "val_Y = df_valid[\"label\"]\n",
    "rf.fit(train_X, train_Y)\n",
    "onehot.fit(rf.apply(train_X))\n",
    "lr.fit(onehot.transform(rf.apply(val_X)), val_Y)"
   ]
  },
  {
   "cell_type": "code",
   "execution_count": 182,
   "metadata": {
    "scrolled": false
   },
   "outputs": [
    {
     "data": {
      "text/plain": [
       "Merchant_rate    0.740586\n",
       "Distance         0.099659\n",
       "discount_man     0.084219\n",
       "discount_rate    0.048021\n",
       "discount_jian    0.016168\n",
       "weekday_7        0.005879\n",
       "discount_save    0.005468\n",
       "weekend          0.000000\n",
       "dtype: float64"
      ]
     },
     "execution_count": 182,
     "metadata": {},
     "output_type": "execute_result"
    }
   ],
   "source": [
    "#篩選重要特徵\n",
    "feats = pd.Series(data=rf.feature_importances_, index=predictors)\n",
    "feats = feats.sort_values(ascending=False)\n",
    "feats"
   ]
  },
  {
   "cell_type": "code",
   "execution_count": 183,
   "metadata": {},
   "outputs": [],
   "source": [
    "y_valid_pred = lr.predict_proba(onehot.transform(rf.apply(val_X)))\n",
    "valid1 = df_valid.copy()\n",
    "valid1['pred_prob'] = y_valid_pred[:, 1]"
   ]
  },
  {
   "cell_type": "code",
   "execution_count": 184,
   "metadata": {},
   "outputs": [
    {
     "name": "stdout",
     "output_type": "stream",
     "text": [
      "Validation AUC: 0.902, Accuracy: 0.949\n"
     ]
    }
   ],
   "source": [
    "from sklearn.metrics import roc_auc_score, accuracy_score\n",
    "auc_score = roc_auc_score(y_true=df_valid.label, y_score=y_valid_pred[:,1])\n",
    "acc = accuracy_score(y_true=df_valid.label, y_pred=y_valid_pred.argmax(axis=1))\n",
    "print(\"Validation AUC: {:.3f}, Accuracy: {:.3f}\".format(auc_score, acc))"
   ]
  },
  {
   "cell_type": "code",
   "execution_count": 185,
   "metadata": {},
   "outputs": [
    {
     "name": "stdout",
     "output_type": "stream",
     "text": [
      "(306313, 22)\n",
      "(306313, 9)\n",
      "   Distance  weekend  discount_rate  discount_man  discount_save  \\\n",
      "0       1.0        0       0.866667           150           20.0   \n",
      "1       0.0        1       0.950000            20            1.0   \n",
      "2       0.0        0       0.950000            20            1.0   \n",
      "3       0.0        0       0.833333            30            5.0   \n",
      "4       0.0        0       0.950000            20            1.0   \n",
      "5      99.0        1       0.800000            50           10.0   \n",
      "6       1.0        0       0.950000            20            1.0   \n",
      "7       0.0        1       0.833333            30            5.0   \n",
      "8      99.0        0       0.866667           150           20.0   \n",
      "9       0.0        1       0.750000            20            5.0   \n",
      "\n",
      "   discount_jian  Merchant_rate  weekday_7  pred_prob  \n",
      "0             20       0.009023          0   0.003036  \n",
      "1              1       0.031250          0   0.021593  \n",
      "2              1       0.031250          0   0.021593  \n",
      "3              5       0.010384          0   0.010967  \n",
      "4              1       0.060302          0   0.055298  \n",
      "5             10       0.149778          0   0.108483  \n",
      "6              1       0.000000          0   0.004706  \n",
      "7              5       0.149778          0   0.174345  \n",
      "8             20       0.009023          0   0.002542  \n",
      "9              5       0.120563          0   0.159990  \n",
      "[0.99696435 0.97840667 0.97840667 ... 0.96105078 0.99117171 0.84001033]\n",
      "[0.00303565 0.02159333 0.02159333 ... 0.03894922 0.00882829 0.15998967]\n"
     ]
    }
   ],
   "source": [
    "targetset = dftest.copy()\n",
    "print(targetset.shape)\n",
    "testset = targetset[predictors].copy()\n",
    "\n",
    "test_X = dftest[predictors]\n",
    "y_test_pred = lr.predict_proba(onehot.transform(rf.apply(test_X)))\n",
    "test1 = testset.copy()\n",
    "test1['pred_prob'] = y_test_pred[:, 1]\n",
    "print(test1.shape)\n",
    "print(test1.head(10))\n",
    "print(y_test_pred[:, 0])\n",
    "print(y_test_pred[:, 1])"
   ]
  },
  {
   "cell_type": "code",
   "execution_count": 186,
   "metadata": {},
   "outputs": [
    {
     "name": "stdout",
     "output_type": "stream",
     "text": [
      "(306313, 4)\n"
     ]
    }
   ],
   "source": [
    "output = pd.concat((targetset[[\"User_id\", \"Coupon_id\", \"Date_received\"]], test1[\"pred_prob\"]), axis=1)\n",
    "print(output.shape)\n",
    "\n",
    "output.loc[:, \"User_id\"] = output[\"User_id\"].apply(lambda x:str(int(x)))\n",
    "output.loc[:, \"Coupon_id\"] = output[\"Coupon_id\"].apply(lambda x:str(int(x)))\n",
    "output.loc[:, \"Date_received\"] = output[\"Date_received\"].apply(lambda x:str(int(x)))\n",
    "output[\"uid\"] = output[[\"User_id\", \"Coupon_id\", \"Date_received\"]].apply(lambda x: '_'.join(x.values), axis=1)\n",
    "output.reset_index(drop=True, inplace=True)"
   ]
  },
  {
   "cell_type": "code",
   "execution_count": 187,
   "metadata": {
    "scrolled": true
   },
   "outputs": [
    {
     "data": {
      "text/html": [
       "<div>\n",
       "<style scoped>\n",
       "    .dataframe tbody tr th:only-of-type {\n",
       "        vertical-align: middle;\n",
       "    }\n",
       "\n",
       "    .dataframe tbody tr th {\n",
       "        vertical-align: top;\n",
       "    }\n",
       "\n",
       "    .dataframe thead th {\n",
       "        text-align: right;\n",
       "    }\n",
       "</style>\n",
       "<table border=\"1\" class=\"dataframe\">\n",
       "  <thead>\n",
       "    <tr style=\"text-align: right;\">\n",
       "      <th></th>\n",
       "      <th>uid</th>\n",
       "      <th>label</th>\n",
       "    </tr>\n",
       "  </thead>\n",
       "  <tbody>\n",
       "    <tr>\n",
       "      <th>0</th>\n",
       "      <td>1000020_2705_20160519</td>\n",
       "      <td>0.159990</td>\n",
       "    </tr>\n",
       "    <tr>\n",
       "      <th>1</th>\n",
       "      <td>1000020_8192_20160513</td>\n",
       "      <td>0.018847</td>\n",
       "    </tr>\n",
       "    <tr>\n",
       "      <th>2</th>\n",
       "      <td>1000065_1455_20160527</td>\n",
       "      <td>0.273250</td>\n",
       "    </tr>\n",
       "    <tr>\n",
       "      <th>3</th>\n",
       "      <td>1000085_8067_20160513</td>\n",
       "      <td>0.010967</td>\n",
       "    </tr>\n",
       "    <tr>\n",
       "      <th>4</th>\n",
       "      <td>1000086_2418_20160613</td>\n",
       "      <td>0.066748</td>\n",
       "    </tr>\n",
       "  </tbody>\n",
       "</table>\n",
       "</div>"
      ],
      "text/plain": [
       "                     uid     label\n",
       "0  1000020_2705_20160519  0.159990\n",
       "1  1000020_8192_20160513  0.018847\n",
       "2  1000065_1455_20160527  0.273250\n",
       "3  1000085_8067_20160513  0.010967\n",
       "4  1000086_2418_20160613  0.066748"
      ]
     },
     "execution_count": 187,
     "metadata": {},
     "output_type": "execute_result"
    }
   ],
   "source": [
    "out = output.groupby(\"uid\", as_index=False).mean()\n",
    "out = out[[\"uid\", \"pred_prob\"]]\n",
    "out.columns = [\"uid\", \"label\"]\n",
    "out.head()"
   ]
  },
  {
   "cell_type": "code",
   "execution_count": 188,
   "metadata": {},
   "outputs": [],
   "source": [
    "out.to_csv(\"Result/fit_result_12.csv\", sep=',', encoding='utf-8', index=False)"
   ]
  },
  {
   "cell_type": "code",
   "execution_count": null,
   "metadata": {},
   "outputs": [],
   "source": []
  }
 ],
 "metadata": {
  "kernelspec": {
   "display_name": "Python 3",
   "language": "python",
   "name": "python3"
  },
  "language_info": {
   "codemirror_mode": {
    "name": "ipython",
    "version": 3
   },
   "file_extension": ".py",
   "mimetype": "text/x-python",
   "name": "python",
   "nbconvert_exporter": "python",
   "pygments_lexer": "ipython3",
   "version": "3.7.3"
  }
 },
 "nbformat": 4,
 "nbformat_minor": 2
}
